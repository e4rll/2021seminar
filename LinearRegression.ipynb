{
 "cells": [
  {
   "cell_type": "markdown",
   "metadata": {},
   "source": [
    "# 2021/05/08 定期勉強会 データ分析演習\n",
    "\n",
    "使用データ：[House prices](https://www.kaggle.com/c/house-prices-advanced-regression-techniques/data)\n",
    "\n",
    "[![Open In Colab](https://colab.research.google.com/assets/colab-badge.svg)](http://colab.research.google.com/github/e4rll/2021seminar/blob/master/LinearRegression.ipynb)"
   ]
  },
  {
   "cell_type": "markdown",
   "metadata": {},
   "source": [
    "## ライブラリの読み込み\n",
    "Pythonは標準のままで出来ることは少ないです。そこで「ライブラリ」という、機能をまとめたプログラムの集まりを環境にインポートすることで、Pythonで出来ることを増やします。\n",
    "\n",
    "今回使用するライブラリは、データ解析・データ加工に優れた機能を追加する\"[pandas](https://pandas.pydata.org/)\"、効率的な数値計算をするための\"[numpy](https://numpy.org/)\"、グラフを描画するための拡張機能を追加する\"[matplotlib](https://matplotlib.org/)\"、そのmatplotlibをさらに拡張するための\"[seaborn](https://seaborn.pydata.org/)\"、さまざまな統計モデルを推定したり統計的検定などの機能を追加する\"[statmodels](https://www.statsmodels.org/stable/index.html)\"、数学・科学・工学のための数値解析のための\"[scipy](https://www.scipy.org/)\"の以上６つ。"
   ]
  },
  {
   "cell_type": "code",
   "execution_count": null,
   "metadata": {},
   "outputs": [],
   "source": [
    "import pandas as pd\n",
    "import numpy as np\n",
    "import matplotlib.pyplot as plt\n",
    "import seaborn as sns\n",
    "import statsmodels.api as sm\n",
    "import scipy.stats as sp"
   ]
  },
  {
   "cell_type": "markdown",
   "metadata": {},
   "source": [
    "## データの読み込み\n",
    "ライブラリをインポートしておくことでデータの読み込みから非常に簡単にすることができます。\n",
    "\n",
    "読み込むデータは\"train.csv\"と\"test.csv\"の2ファイル。"
   ]
  },
  {
   "cell_type": "code",
   "execution_count": null,
   "metadata": {},
   "outputs": [],
   "source": [
    "train_data =  pd.read_csv('https://github.com/e4rll/2021seminar/raw/master/input/train.csv')\n",
    "test_data = pd.read_csv('https://github.com/e4rll/2021seminar/raw/master/input/test.csv')"
   ]
  },
  {
   "cell_type": "markdown",
   "metadata": {},
   "source": [
    "ちなみにPythonに元々入っている標準ライブラリのみでデータを読み込もうとすると長くなります。\n",
    "また、データを読み込んだ後にそのデータを操作しようとしたときに扱いにくいので、コチラで読み込むことはよほどの事情がなければ無いです。"
   ]
  },
  {
   "cell_type": "code",
   "execution_count": null,
   "metadata": {},
   "outputs": [],
   "source": [
    "# import csv\n",
    "# with open('input/train.csv', 'r') as csv_file:\n",
    "#     csv_reader = csv.reader(csv_file)\n",
    "#     list_of_rows = list(csv_reader)\n",
    "#     print(list_of_rows)"
   ]
  },
  {
   "cell_type": "markdown",
   "metadata": {},
   "source": [
    "### データの軽い確認"
   ]
  },
  {
   "cell_type": "code",
   "execution_count": null,
   "metadata": {},
   "outputs": [],
   "source": [
    "train_data.head()"
   ]
  },
  {
   "cell_type": "code",
   "execution_count": null,
   "metadata": {},
   "outputs": [],
   "source": [
    "test_data.head()"
   ]
  },
  {
   "cell_type": "markdown",
   "metadata": {},
   "source": [
    "## 状況の確認\n",
    "\n",
    "状況：\n",
    "\n",
    "あなたは複数の住宅を保有する不動産屋さんです。\n",
    "\n",
    "最近空き物件が多く、収益が落ちてきています。エリアの人口が減少している訳ではありません。そこで競合他社を調べてみると、売上高が伸びています。あなたの不動産屋では、ここ数年住宅の価格を変更していません。住宅価格の見直しをしなかったうちに、相場価格が変わってしまったのでしょう。\n",
    "\n",
    "あなたは競合他社の住宅価格とその住宅の特徴をできるだけ集め、これらのデータから保有する住宅の価格の見直しをしたいと考えました。\n",
    "\n",
    "また、価格に特に影響を与えている要因を調べることにより、今後価格変動の注意深く見るべき要因を特定する。"
   ]
  },
  {
   "cell_type": "markdown",
   "metadata": {},
   "source": [
    "## 仮説の確認\n",
    "\n",
    "仮説：住宅価格($)は、「敷地面積(square feet)」、「建築年・改築年からの経過年数(年)」、「地上以上の部屋数(部屋)」によって算出される。\n",
    "\n",
    "## 使用する変数\n",
    "\n",
    "| 変数名       | 概要             |\n",
    "|--------------|------------------|\n",
    "| SalePrice    | 住宅価格         |\n",
    "| LotArea      | 敷地面積         |\n",
    "| YearRemodAdd | 建築年・改築年   |\n",
    "| TotRmsAbvGrd | 地上以上の部屋数 |\n",
    "| YrSold       | 販売年           |"
   ]
  },
  {
   "cell_type": "markdown",
   "metadata": {},
   "source": [
    "## データ収集\n",
    "<br>\n",
    "仮説に沿ったデータのみを抽出する。"
   ]
  },
  {
   "cell_type": "code",
   "execution_count": null,
   "metadata": {},
   "outputs": [],
   "source": [
    "train_data = train_data[['SalePrice', 'LotArea', 'YearRemodAdd', 'TotRmsAbvGrd', 'YrSold']]"
   ]
  },
  {
   "cell_type": "markdown",
   "metadata": {},
   "source": [
    "### データの確認\n",
    "<br>\n",
    "変数の数とデータ件数の確認。"
   ]
  },
  {
   "cell_type": "code",
   "execution_count": null,
   "metadata": {},
   "outputs": [],
   "source": [
    "print('(行数, 列数) = ', train_data.shape)"
   ]
  },
  {
   "cell_type": "markdown",
   "metadata": {},
   "source": [
    "抽出したデータのみのデータ確認。"
   ]
  },
  {
   "cell_type": "code",
   "execution_count": null,
   "metadata": {},
   "outputs": [],
   "source": [
    "train_data.head()"
   ]
  },
  {
   "cell_type": "markdown",
   "metadata": {},
   "source": [
    "データの情報を確認する。"
   ]
  },
  {
   "cell_type": "code",
   "execution_count": null,
   "metadata": {},
   "outputs": [],
   "source": [
    "train_data.info()"
   ]
  },
  {
   "cell_type": "markdown",
   "metadata": {},
   "source": [
    "### 欠損値の確認"
   ]
  },
  {
   "cell_type": "code",
   "execution_count": null,
   "metadata": {},
   "outputs": [],
   "source": [
    "print('Train columns with null values: {} \\n' .format(train_data.isnull().sum()))"
   ]
  },
  {
   "cell_type": "markdown",
   "metadata": {},
   "source": [
    "### データの基礎統計量の確認\n",
    "<br>\n",
    "・項目の説明\n",
    "\n",
    "count: 要素の個数\n",
    "\n",
    "mean: 平均\n",
    "\n",
    "std: 標準偏差\n",
    "\n",
    "min: 最小値\n",
    "\n",
    "25%: 第一四分位数\n",
    "\n",
    "75%: 第三四分位数\n",
    "\n",
    "50%: 中央値 (median)\n",
    "\n",
    "max: 最大値"
   ]
  },
  {
   "cell_type": "code",
   "execution_count": null,
   "metadata": {},
   "outputs": [],
   "source": [
    "train_data.describe()"
   ]
  },
  {
   "cell_type": "markdown",
   "metadata": {},
   "source": [
    "相関係数の算出"
   ]
  },
  {
   "cell_type": "code",
   "execution_count": null,
   "metadata": {},
   "outputs": [],
   "source": [
    "train_corr = train_corr = train_data.corr()\n",
    "display(train_corr)"
   ]
  },
  {
   "cell_type": "markdown",
   "metadata": {},
   "source": [
    "相関係数を見やすく。"
   ]
  },
  {
   "cell_type": "code",
   "execution_count": null,
   "metadata": {},
   "outputs": [],
   "source": [
    "sns.set_context('talk')\n",
    "fig = plt.subplots(figsize = (8, 8))\n",
    " \n",
    "sns.heatmap(train_corr, annot = True, fmt = '.2f', cmap = 'Blues', square = True)"
   ]
  },
  {
   "cell_type": "markdown",
   "metadata": {},
   "source": [
    "全体のヒストグラムと散布図の描画。"
   ]
  },
  {
   "cell_type": "code",
   "execution_count": null,
   "metadata": {},
   "outputs": [],
   "source": [
    "sns.pairplot(train_data)"
   ]
  },
  {
   "cell_type": "markdown",
   "metadata": {},
   "source": [
    "### 目的変数のみ確認"
   ]
  },
  {
   "cell_type": "markdown",
   "metadata": {},
   "source": [
    "ヒストグラム描画"
   ]
  },
  {
   "cell_type": "code",
   "execution_count": null,
   "metadata": {},
   "outputs": [],
   "source": [
    "%matplotlib inline\n",
    "train_data['SalePrice'].hist(bins = 50, figsize = (10, 7.5))\n",
    "plt.rcParams['figure.figsize'] = [20, 15]"
   ]
  },
  {
   "cell_type": "markdown",
   "metadata": {},
   "source": [
    "箱ひげ図描画"
   ]
  },
  {
   "cell_type": "code",
   "execution_count": null,
   "metadata": {},
   "outputs": [],
   "source": [
    "%matplotlib inline\n",
    "fig_o, ax_o = plt.subplots(figsize=(9.6, 5))\n",
    "ax_o.set_title('Box Plot')\n",
    "ax_o.boxplot(train_data['SalePrice'], vert = False,  labels=['SalePrice'])\n",
    "plt.rcParams['figure.figsize'] = [20, 15]"
   ]
  },
  {
   "cell_type": "markdown",
   "metadata": {},
   "source": [
    "目的変数が正規分布に従っていないことを確認しておく。"
   ]
  },
  {
   "cell_type": "markdown",
   "metadata": {},
   "source": [
    "### 説明変数のみ確認"
   ]
  },
  {
   "cell_type": "markdown",
   "metadata": {},
   "source": [
    "ヒストグラム描画"
   ]
  },
  {
   "cell_type": "code",
   "execution_count": null,
   "metadata": {},
   "outputs": [],
   "source": [
    "%matplotlib inline\n",
    "train_data[['LotArea', 'YearRemodAdd', 'TotRmsAbvGrd', 'YrSold']].hist(bins=50, figsize=(15,7.5))\n",
    "plt.rcParams['figure.figsize'] = [20, 15]"
   ]
  },
  {
   "cell_type": "markdown",
   "metadata": {},
   "source": [
    "## データ加工"
   ]
  },
  {
   "cell_type": "markdown",
   "metadata": {},
   "source": [
    "### 変数の作成\n",
    "<br>\n",
    "仮説では、「建築年・改築年からの経過年数(年)」が住宅価格に影響を与えているとしていたので、「経過年数」という変数を作成する。\n",
    "\n",
    "それに伴い、元データの「建築年・改築年」、「販売年」という変数を削除する。"
   ]
  },
  {
   "cell_type": "code",
   "execution_count": null,
   "metadata": {},
   "outputs": [],
   "source": [
    "train_data['ElapYr'] = train_data['YrSold'] - train_data['YearRemodAdd']\n",
    "train_data.drop(['YearRemodAdd', 'YrSold'], axis = 1, inplace = True)"
   ]
  },
  {
   "cell_type": "markdown",
   "metadata": {},
   "source": [
    "データの再確認"
   ]
  },
  {
   "cell_type": "code",
   "execution_count": null,
   "metadata": {},
   "outputs": [],
   "source": [
    "train_data.head()"
   ]
  },
  {
   "cell_type": "code",
   "execution_count": null,
   "metadata": {},
   "outputs": [],
   "source": [
    "train_corr = train_corr = train_data.corr()\n",
    "display(train_corr)"
   ]
  },
  {
   "cell_type": "code",
   "execution_count": null,
   "metadata": {},
   "outputs": [],
   "source": [
    "sns.set_context('talk')\n",
    "fig = plt.subplots(figsize = (8, 8))\n",
    " \n",
    "sns.heatmap(train_corr, annot = True, fmt = '.2f', cmap = 'Blues', square = True)"
   ]
  },
  {
   "cell_type": "code",
   "execution_count": null,
   "metadata": {},
   "outputs": [],
   "source": [
    "sns.pairplot(train_data)"
   ]
  },
  {
   "cell_type": "markdown",
   "metadata": {},
   "source": [
    "### 外れ値対処"
   ]
  },
  {
   "cell_type": "code",
   "execution_count": null,
   "metadata": {},
   "outputs": [],
   "source": [
    "%matplotlib inline\n",
    "fig_o, ax_o = plt.subplots(figsize=(9.6, 5))\n",
    "ax_o.set_title('Box Plot')\n",
    "ax_o.boxplot(train_data['LotArea'], vert = False,  labels=['LotArea'])\n",
    "plt.rcParams['figure.figsize'] = [20, 15]"
   ]
  },
  {
   "cell_type": "markdown",
   "metadata": {},
   "source": [
    "外れ値の除去。"
   ]
  },
  {
   "cell_type": "code",
   "execution_count": null,
   "metadata": {},
   "outputs": [],
   "source": [
    "train_data.query('LotArea <= 39000', inplace = True)"
   ]
  },
  {
   "cell_type": "code",
   "execution_count": null,
   "metadata": {},
   "outputs": [],
   "source": [
    "%matplotlib inline\n",
    "train_data['LotArea'].hist(bins = 50, figsize = (10, 7.5))\n",
    "plt.rcParams['figure.figsize'] = [20, 15]"
   ]
  },
  {
   "cell_type": "code",
   "execution_count": null,
   "metadata": {},
   "outputs": [],
   "source": [
    "train_corr = train_corr = train_data.corr()\n",
    "display(train_corr)"
   ]
  },
  {
   "cell_type": "code",
   "execution_count": null,
   "metadata": {},
   "outputs": [],
   "source": [
    "sns.set_context('talk')\n",
    "fig = plt.subplots(figsize = (8, 8))\n",
    " \n",
    "sns.heatmap(train_corr, annot = True, fmt = '.2f', cmap = 'Blues', square = True)"
   ]
  },
  {
   "cell_type": "markdown",
   "metadata": {},
   "source": [
    "「敷地面積」の外れ値を除去したら、「敷地面積」と「地上以上の部屋数」間に多重共線性(マルチコ)がありそうに見えてきましたが、今回は取り敢えず無視します。"
   ]
  },
  {
   "cell_type": "code",
   "execution_count": null,
   "metadata": {},
   "outputs": [],
   "source": [
    "sns.pairplot(train_data)"
   ]
  },
  {
   "cell_type": "markdown",
   "metadata": {},
   "source": [
    "## 回帰分析"
   ]
  },
  {
   "cell_type": "markdown",
   "metadata": {},
   "source": [
    "一旦データを再確認する。"
   ]
  },
  {
   "cell_type": "code",
   "execution_count": null,
   "metadata": {},
   "outputs": [],
   "source": [
    "train_data.head()"
   ]
  },
  {
   "cell_type": "code",
   "execution_count": null,
   "metadata": {},
   "outputs": [],
   "source": [
    "train_data.info()"
   ]
  },
  {
   "cell_type": "code",
   "execution_count": null,
   "metadata": {},
   "outputs": [],
   "source": [
    "train_data.describe()"
   ]
  },
  {
   "cell_type": "code",
   "execution_count": null,
   "metadata": {},
   "outputs": [],
   "source": [
    "%matplotlib inline\n",
    "np.log(train_data['SalePrice']).hist(bins = 50, figsize = (10, 7.5))\n",
    "plt.rcParams['figure.figsize'] = [20, 15]"
   ]
  },
  {
   "cell_type": "markdown",
   "metadata": {},
   "source": [
    "### モデル構築\n",
    "<br>\n",
    "・目的変数：\n",
    "\n",
    "SalePrice - 住宅価格\n",
    "<br><br>\n",
    "・説明変数：\n",
    "\n",
    "LotArea - 敷地面積\n",
    "\n",
    "TotRmsAbvGrd - 地上以上の部屋数\n",
    "\n",
    "ElapYr - 経過年数\n",
    "<br><br>\n",
    "#### モデル式\n",
    "$ {\\rm SalePrice} = \\beta_0 + {\\rm LotArea} \\: \\times \\beta_1 + {\\rm TotRmsAbvGrd} \\: \\times \\beta_2 + {\\rm ElapYr} \\: \\times \\beta_3 $"
   ]
  },
  {
   "cell_type": "code",
   "execution_count": null,
   "metadata": {},
   "outputs": [],
   "source": [
    "x = train_data[['LotArea', 'TotRmsAbvGrd', 'ElapYr']]\n",
    "y = np.log(train_data['SalePrice'])\n",
    "X = sm.add_constant(x)\n",
    "\n",
    "model = sm.OLS(y, X)\n",
    "result = model.fit()\n",
    "result.summary()"
   ]
  },
  {
   "cell_type": "markdown",
   "metadata": {},
   "source": [
    "### 着目する値\n",
    "<br>\n",
    "・Adj. R-squared: 自由度調整済み決定係数\n",
    "\n",
    "・Prob (F-statistic): モデルに対するF検定の有意確率\n",
    "\n",
    "・coef: 偏回帰係数\n",
    "\n",
    "・P>|t|: 偏回帰係数に対するt検定の有意確率\n",
    "\n",
    "・（必要に応じて）AIC: 赤池情報量基準\n",
    "\n",
    "・（必要に応じて）BIC: ベイズ情報量基準"
   ]
  },
  {
   "cell_type": "markdown",
   "metadata": {},
   "source": [
    "### 自社データに適応させる"
   ]
  },
  {
   "cell_type": "code",
   "execution_count": null,
   "metadata": {},
   "outputs": [],
   "source": [
    "test_data = pd.read_csv('input/test.csv')\n",
    "test_data = test_data[['LotArea', 'YearRemodAdd', 'TotRmsAbvGrd', 'YrSold']]\n",
    "test_data['ElapYr'] = test_data['YrSold'] - test_data['YearRemodAdd']\n",
    "test_data.drop(['YearRemodAdd', 'YrSold'], axis = 1, inplace = True)\n",
    "test_data.query('LotArea <= 39000', inplace = True)"
   ]
  },
  {
   "cell_type": "code",
   "execution_count": null,
   "metadata": {},
   "outputs": [],
   "source": [
    "test_data.head()"
   ]
  },
  {
   "cell_type": "code",
   "execution_count": null,
   "metadata": {},
   "outputs": [],
   "source": [
    "pd.DataFrame(result.params)"
   ]
  },
  {
   "cell_type": "code",
   "execution_count": null,
   "metadata": {},
   "outputs": [],
   "source": [
    "test_data['pred_val'] = result.params['const'] + \\\n",
    "    test_data['LotArea'] * result.params['LotArea'] + \\\n",
    "    test_data['TotRmsAbvGrd'] * result.params['TotRmsAbvGrd'] + \\\n",
    "    test_data['ElapYr'] * result.params['ElapYr']"
   ]
  },
  {
   "cell_type": "code",
   "execution_count": null,
   "metadata": {},
   "outputs": [],
   "source": [
    "test_data['pred_val'] = np.exp(test_data['pred_val'])"
   ]
  },
  {
   "cell_type": "markdown",
   "metadata": {},
   "source": [
    "### 予測された自社保有住宅価格"
   ]
  },
  {
   "cell_type": "code",
   "execution_count": null,
   "metadata": {},
   "outputs": [],
   "source": [
    "pd.DataFrame(test_data['pred_val'])"
   ]
  },
  {
   "cell_type": "markdown",
   "metadata": {},
   "source": [
    "## 影響度比較"
   ]
  },
  {
   "cell_type": "code",
   "execution_count": null,
   "metadata": {},
   "outputs": [],
   "source": [
    "x = train_data[['LotArea', 'TotRmsAbvGrd', 'ElapYr']]\n",
    "y = np.log(train_data['SalePrice'])\n",
    "y.reset_index(inplace=True, drop=True)\n",
    "x_n = pd.DataFrame(sp.stats.zscore(x, axis=0), \\\n",
    "                   columns=['LotArea', 'TotRmsAbvGrd', 'ElapYr'])\n",
    "X_n = sm.add_constant(x_n)\n",
    "\n",
    "model = sm.OLS(y, X_n)\n",
    "result = model.fit()\n",
    "result.summary()"
   ]
  }
 ],
 "metadata": {
  "kernelspec": {
   "display_name": "Python 3",
   "language": "python",
   "name": "python3"
  },
  "language_info": {
   "codemirror_mode": {
    "name": "ipython",
    "version": 3
   },
   "file_extension": ".py",
   "mimetype": "text/x-python",
   "name": "python",
   "nbconvert_exporter": "python",
   "pygments_lexer": "ipython3",
   "version": "3.8.3"
  }
 },
 "nbformat": 4,
 "nbformat_minor": 4
}
